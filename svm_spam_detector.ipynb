{
  "nbformat": 4,
  "nbformat_minor": 0,
  "metadata": {
    "colab": {
      "name": "svm_spam_detector",
      "version": "0.3.2",
      "provenance": [],
      "collapsed_sections": []
    },
    "kernelspec": {
      "name": "python3",
      "display_name": "Python 3"
    }
  },
  "cells": [
    {
      "cell_type": "markdown",
      "metadata": {
        "id": "yuZCN8nKHPUZ",
        "colab_type": "text"
      },
      "source": [
        "# Mount google drive"
      ]
    },
    {
      "cell_type": "code",
      "metadata": {
        "id": "VBK6MEZoCa-4",
        "colab_type": "code",
        "outputId": "923beecd-83f2-4a71-cc67-b57dbc4db492",
        "colab": {
          "base_uri": "https://localhost:8080/",
          "height": 122
        }
      },
      "source": [
        "from google.colab import drive\n",
        "drive.mount('/content/gdrive')"
      ],
      "execution_count": 0,
      "outputs": [
        {
          "output_type": "stream",
          "text": [
            "Go to this URL in a browser: https://accounts.google.com/o/oauth2/auth?client_id=947318989803-6bn6qk8qdgf4n4g3pfee6491hc0brc4i.apps.googleusercontent.com&redirect_uri=urn%3Aietf%3Awg%3Aoauth%3A2.0%3Aoob&scope=email%20https%3A%2F%2Fwww.googleapis.com%2Fauth%2Fdocs.test%20https%3A%2F%2Fwww.googleapis.com%2Fauth%2Fdrive%20https%3A%2F%2Fwww.googleapis.com%2Fauth%2Fdrive.photos.readonly%20https%3A%2F%2Fwww.googleapis.com%2Fauth%2Fpeopleapi.readonly&response_type=code\n",
            "\n",
            "Enter your authorization code:\n",
            "··········\n",
            "Mounted at /content/gdrive\n"
          ],
          "name": "stdout"
        }
      ]
    },
    {
      "cell_type": "markdown",
      "metadata": {
        "id": "Pzg8M4fDHY4m",
        "colab_type": "text"
      },
      "source": [
        "# Inspect Data"
      ]
    },
    {
      "cell_type": "code",
      "metadata": {
        "id": "D7kLMyAaCinG",
        "colab_type": "code",
        "outputId": "6267be8c-cba5-4c7f-c059-60ac8bd3ef8a",
        "colab": {
          "base_uri": "https://localhost:8080/",
          "height": 34
        }
      },
      "source": [
        "cd /content/gdrive/My\\ Drive/Mizzou/Artificial\\ Intelligence/AI2_final_project"
      ],
      "execution_count": 0,
      "outputs": [
        {
          "output_type": "stream",
          "text": [
            "/content/gdrive/My Drive/Mizzou/Artificial Intelligence/AI2_final_project\n"
          ],
          "name": "stdout"
        }
      ]
    },
    {
      "cell_type": "code",
      "metadata": {
        "id": "4v6uvLkjmlvx",
        "colab_type": "code",
        "outputId": "14f7c257-1bae-41e8-edcf-18e72646bd80",
        "colab": {
          "base_uri": "https://localhost:8080/",
          "height": 207
        }
      },
      "source": [
        "!head SMSSpamCollection"
      ],
      "execution_count": 0,
      "outputs": [
        {
          "output_type": "stream",
          "text": [
            "ham\tGo until jurong point, crazy.. Available only in bugis n great world la e buffet... Cine there got amore wat...\n",
            "ham\tOk lar... Joking wif u oni...\n",
            "spam\tFree entry in 2 a wkly comp to win FA Cup final tkts 21st May 2005. Text FA to 87121 to receive entry question(std txt rate)T&C's apply 08452810075over18's\n",
            "ham\tU dun say so early hor... U c already then say...\n",
            "ham\tNah I don't think he goes to usf, he lives around here though\n",
            "spam\tFreeMsg Hey there darling it's been 3 week's now and no word back! I'd like some fun you up for it still? Tb ok! XxX std chgs to send, £1.50 to rcv\n",
            "ham\tEven my brother is not like to speak with me. They treat me like aids patent.\n",
            "ham\tAs per your request 'Melle Melle (Oru Minnaminunginte Nurungu Vettam)' has been set as your callertune for all Callers. Press *9 to copy your friends Callertune\n",
            "spam\tWINNER!! As a valued network customer you have been selected to receivea £900 prize reward! To claim call 09061701461. Claim code KL341. Valid 12 hours only.\n",
            "spam\tHad your mobile 11 months or more? U R entitled to Update to the latest colour mobiles with camera for Free! Call The Mobile Update Co FREE on 08002986030\n"
          ],
          "name": "stdout"
        }
      ]
    },
    {
      "cell_type": "code",
      "metadata": {
        "id": "KNN8S2k7mmoB",
        "colab_type": "code",
        "outputId": "71d19a78-b919-49dc-d41f-4a6fd849c4f6",
        "colab": {
          "base_uri": "https://localhost:8080/",
          "height": 34
        }
      },
      "source": [
        "lines = None\n",
        "with open(\"SMSSpamCollection\",\"r\") as file:\n",
        "  lines = file.readlines()\n",
        "  \n",
        "lines[0]"
      ],
      "execution_count": 0,
      "outputs": [
        {
          "output_type": "execute_result",
          "data": {
            "text/plain": [
              "'ham\\tGo until jurong point, crazy.. Available only in bugis n great world la e buffet... Cine there got amore wat...\\n'"
            ]
          },
          "metadata": {
            "tags": []
          },
          "execution_count": 4
        }
      ]
    },
    {
      "cell_type": "markdown",
      "metadata": {
        "id": "bb1shyAMknEb",
        "colab_type": "text"
      },
      "source": [
        "# Import libraries"
      ]
    },
    {
      "cell_type": "code",
      "metadata": {
        "id": "8Awwp_GYkp5F",
        "colab_type": "code",
        "colab": {}
      },
      "source": [
        "import numpy as np\n",
        "import pickle\n",
        "import sklearn\n",
        "from sklearn.preprocessing import LabelEncoder\n",
        "from sklearn.feature_extraction.text import CountVectorizer\n",
        "from sklearn.model_selection import train_test_split"
      ],
      "execution_count": 0,
      "outputs": []
    },
    {
      "cell_type": "markdown",
      "metadata": {
        "id": "gR6mqaRKMS3N",
        "colab_type": "text"
      },
      "source": [
        "# Separate targets and features "
      ]
    },
    {
      "cell_type": "code",
      "metadata": {
        "id": "9Hjt8-qni3HT",
        "colab_type": "code",
        "colab": {}
      },
      "source": [
        "targets = []\n",
        "features = []\n",
        "\n",
        "with open(\"SMSSpamCollection\",\"r\") as file:\n",
        "  for line in file:\n",
        "    data = line.strip().split('\\t')\n",
        "    if len(data) == 2:\n",
        "      t, f = data\n",
        "      targets.append(t)\n",
        "      features.append(f)"
      ],
      "execution_count": 0,
      "outputs": []
    },
    {
      "cell_type": "markdown",
      "metadata": {
        "id": "T2VbtcN-MKTa",
        "colab_type": "text"
      },
      "source": [
        "**Store Dataset (optional)**"
      ]
    },
    {
      "cell_type": "code",
      "metadata": {
        "id": "ceI35D8pLKRi",
        "colab_type": "code",
        "colab": {}
      },
      "source": [
        "dataset = {\"features\":features,\"targets\":targets}\n",
        "pickling_on = open(\"dataset.pickle\",\"wb\")\n",
        "pickle.dump(dataset, pickling_on)\n",
        "pickling_on.close()"
      ],
      "execution_count": 0,
      "outputs": []
    },
    {
      "cell_type": "markdown",
      "metadata": {
        "id": "iAge64UymC_e",
        "colab_type": "text"
      },
      "source": [
        "# Encode target labels"
      ]
    },
    {
      "cell_type": "code",
      "metadata": {
        "id": "hsAXH2AYmIir",
        "colab_type": "code",
        "outputId": "68b49671-c124-4354-c915-8c24838ff901",
        "colab": {
          "base_uri": "https://localhost:8080/",
          "height": 34
        }
      },
      "source": [
        "# Load the dataset\n",
        "pickle_off = open(\"dataset.pickle\",\"rb\")\n",
        "dataset = pickle.load(pickle_off)\n",
        "pickle_off.close()\n",
        "targets = dataset[\"targets\"]\n",
        "\n",
        "# Encode target labels using sklearn LabelEncoder\n",
        "le = LabelEncoder()\n",
        "le.fit(targets)\n",
        "labels = le.transform(targets)\n",
        "le.classes_"
      ],
      "execution_count": 0,
      "outputs": [
        {
          "output_type": "execute_result",
          "data": {
            "text/plain": [
              "array(['ham', 'spam'], dtype='<U4')"
            ]
          },
          "metadata": {
            "tags": []
          },
          "execution_count": 7
        }
      ]
    },
    {
      "cell_type": "markdown",
      "metadata": {
        "id": "qhBFX6NobIZB",
        "colab_type": "text"
      },
      "source": [
        "**Save LabelEncoder (optional)**"
      ]
    },
    {
      "cell_type": "code",
      "metadata": {
        "id": "fDUxOh5HbeuR",
        "colab_type": "code",
        "colab": {}
      },
      "source": [
        "pickle.dump(le, open('label_encoder.pickle','wb'))"
      ],
      "execution_count": 0,
      "outputs": []
    },
    {
      "cell_type": "markdown",
      "metadata": {
        "id": "DRdCPrVXoPOR",
        "colab_type": "text"
      },
      "source": [
        "# Split dataset into train and test (8:2) stratified\n",
        "\n"
      ]
    },
    {
      "cell_type": "code",
      "metadata": {
        "id": "eIFCIDNWnIML",
        "colab_type": "code",
        "colab": {}
      },
      "source": [
        "features = dataset[\"features\"]\n",
        "X_train, X_test, y_train, y_test = train_test_split(features, labels, test_size=0.2, stratify=labels, random_state=42)"
      ],
      "execution_count": 0,
      "outputs": []
    },
    {
      "cell_type": "code",
      "metadata": {
        "id": "1AAxtcwgVsiR",
        "colab_type": "code",
        "outputId": "077de113-fb73-4d62-e93d-7f5181f8645c",
        "colab": {
          "base_uri": "https://localhost:8080/",
          "height": 34
        }
      },
      "source": [
        "np.unique(y_test,return_counts=True)"
      ],
      "execution_count": 0,
      "outputs": [
        {
          "output_type": "execute_result",
          "data": {
            "text/plain": [
              "(array([0, 1]), array([966, 149]))"
            ]
          },
          "metadata": {
            "tags": []
          },
          "execution_count": 10
        }
      ]
    },
    {
      "cell_type": "code",
      "metadata": {
        "id": "K79k0PRTWtfe",
        "colab_type": "code",
        "outputId": "5a735075-c54e-4db3-d957-80fc3a582d80",
        "colab": {
          "base_uri": "https://localhost:8080/",
          "height": 34
        }
      },
      "source": [
        "np.unique(y_train,return_counts=True)"
      ],
      "execution_count": 0,
      "outputs": [
        {
          "output_type": "execute_result",
          "data": {
            "text/plain": [
              "(array([0, 1]), array([3861,  598]))"
            ]
          },
          "metadata": {
            "tags": []
          },
          "execution_count": 11
        }
      ]
    },
    {
      "cell_type": "markdown",
      "metadata": {
        "id": "vbe5cXeHW2p4",
        "colab_type": "text"
      },
      "source": [
        "**Save the train and test datasets to pickle files (optional)**"
      ]
    },
    {
      "cell_type": "code",
      "metadata": {
        "id": "OUJGRuW0W6XX",
        "colab_type": "code",
        "colab": {}
      },
      "source": [
        "with open('X_train.pickle','wb') as file:\n",
        "  pickle.dump(X_train,file)\n",
        "  \n",
        "with open('X_test.pickle','wb') as file:\n",
        "  pickle.dump(X_test,file)\n",
        "\n",
        "with open('y_train.np','wb') as file:\n",
        "  np.save(file, y_train)\n",
        "\n",
        "with open('y_test.np','wb') as file:\n",
        "  np.save(file, y_test)"
      ],
      "execution_count": 0,
      "outputs": []
    },
    {
      "cell_type": "markdown",
      "metadata": {
        "id": "LpEWDCY1ePpI",
        "colab_type": "text"
      },
      "source": [
        "# Tokenize training text\n",
        " token_pattern=’(?u)\\b\\w\\w+\\b’\n",
        " \n",
        "Text preprocessing, **tokenizing** and **filtering of stopwords** are all included in **CountVectorizer**, which builds a dictionary of features and transforms documents to feature vectors:"
      ]
    },
    {
      "cell_type": "code",
      "metadata": {
        "id": "QpYnD0HneOnK",
        "colab_type": "code",
        "outputId": "7792f407-f31a-41ad-e384-4a2ad2cbe1d6",
        "colab": {
          "base_uri": "https://localhost:8080/",
          "height": 34
        }
      },
      "source": [
        "from sklearn.feature_extraction.text import CountVectorizer\n",
        "count_vect = CountVectorizer()\n",
        "X_train_counts = count_vect.fit_transform(X_train)\n",
        "X_train_counts.shape # sparse matrix"
      ],
      "execution_count": 0,
      "outputs": [
        {
          "output_type": "execute_result",
          "data": {
            "text/plain": [
              "(4459, 7716)"
            ]
          },
          "metadata": {
            "tags": []
          },
          "execution_count": 13
        }
      ]
    },
    {
      "cell_type": "markdown",
      "metadata": {
        "id": "spCEWoXegph_",
        "colab_type": "text"
      },
      "source": [
        "**Save the CountVectorizer**"
      ]
    },
    {
      "cell_type": "code",
      "metadata": {
        "id": "WJqGB2OjebfR",
        "colab_type": "code",
        "colab": {}
      },
      "source": [
        "with open('count_vectorizer','wb') as file:\n",
        "  pickle.dump(count_vect, file)"
      ],
      "execution_count": 0,
      "outputs": []
    },
    {
      "cell_type": "markdown",
      "metadata": {
        "id": "YMA5bie7hDfU",
        "colab_type": "text"
      },
      "source": [
        "# From occurences to frequences (TF-IDF Transformation)"
      ]
    },
    {
      "cell_type": "code",
      "metadata": {
        "id": "AnC5S9-uhtzk",
        "colab_type": "code",
        "outputId": "d16575ab-08ec-4483-9022-5dba46b6e1e6",
        "colab": {
          "base_uri": "https://localhost:8080/",
          "height": 34
        }
      },
      "source": [
        "from sklearn.feature_extraction.text import TfidfTransformer\n",
        "tfidf_transformer = TfidfTransformer()\n",
        "X_train_tf = tfidf_transformer.fit_transform(X_train_counts)\n",
        "X_train_tf.shape"
      ],
      "execution_count": 0,
      "outputs": [
        {
          "output_type": "execute_result",
          "data": {
            "text/plain": [
              "(4459, 7716)"
            ]
          },
          "metadata": {
            "tags": []
          },
          "execution_count": 15
        }
      ]
    },
    {
      "cell_type": "code",
      "metadata": {
        "id": "e0lCbmvXQQWZ",
        "colab_type": "code",
        "outputId": "ecdc24a3-179d-4b71-de53-5bb8fb480d2e",
        "colab": {
          "base_uri": "https://localhost:8080/",
          "height": 51
        }
      },
      "source": [
        "X_train_tf[0]"
      ],
      "execution_count": 0,
      "outputs": [
        {
          "output_type": "execute_result",
          "data": {
            "text/plain": [
              "<1x7716 sparse matrix of type '<class 'numpy.float64'>'\n",
              "\twith 8 stored elements in Compressed Sparse Row format>"
            ]
          },
          "metadata": {
            "tags": []
          },
          "execution_count": 16
        }
      ]
    },
    {
      "cell_type": "markdown",
      "metadata": {
        "id": "hmuE2kBxi3GE",
        "colab_type": "text"
      },
      "source": [
        "**Save the tfidf_transformer (checkpoint save)**"
      ]
    },
    {
      "cell_type": "code",
      "metadata": {
        "id": "v8utvNGGi-l7",
        "colab_type": "code",
        "colab": {}
      },
      "source": [
        "with open(\"tfidf_transformer\",\"wb\") as file:\n",
        "  pickle.dump(tfidf_transformer, file)"
      ],
      "execution_count": 0,
      "outputs": []
    },
    {
      "cell_type": "markdown",
      "metadata": {
        "id": "DecmRIJbqiE2",
        "colab_type": "text"
      },
      "source": [
        "# Grid Search to optimize SVM(later?)\n",
        "[Grid Search](https://scikit-learn.org/stable/auto_examples/model_selection/plot_grid_search_digits.html)"
      ]
    },
    {
      "cell_type": "markdown",
      "metadata": {
        "id": "7DvcFjiBHPrb",
        "colab_type": "text"
      },
      "source": [
        "Load preprocessing models and training dataset "
      ]
    },
    {
      "cell_type": "code",
      "metadata": {
        "id": "TCrJv-tFHSi0",
        "colab_type": "code",
        "colab": {}
      },
      "source": [
        "encoder = pickle.load(open('label_encoder.pickle','rb'))\n",
        "count_vect = pickle.load(open('count_vectorizer','rb'))\n",
        "tfidf_transformer = pickle.load(open(\"tfidf_transformer\",\"rb\"))"
      ],
      "execution_count": 0,
      "outputs": []
    },
    {
      "cell_type": "code",
      "metadata": {
        "id": "S0TovNkiH19W",
        "colab_type": "code",
        "colab": {}
      },
      "source": [
        "X_train = pickle.load(open('X_train.pickle','rb'))\n",
        "y_train = np.load(open('y_train.np','rb'))\n",
        "X_test = pickle.load(open('X_test.pickle','rb'))\n",
        "y_test = np.load(open('y_test.np','rb'))"
      ],
      "execution_count": 0,
      "outputs": []
    },
    {
      "cell_type": "markdown",
      "metadata": {
        "id": "kaVT2E83Nn0M",
        "colab_type": "text"
      },
      "source": [
        "## SVC parameter tuning"
      ]
    },
    {
      "cell_type": "code",
      "metadata": {
        "id": "QAwh2sCUJ7dR",
        "colab_type": "code",
        "outputId": "f41b8a5d-fd8c-4b30-a536-2907aa34910b",
        "colab": {
          "base_uri": "https://localhost:8080/",
          "height": 2057
        }
      },
      "source": [
        "from sklearn.pipeline import Pipeline\n",
        "from sklearn.svm import SVC\n",
        "from sklearn.metrics import classification_report\n",
        "from sklearn.model_selection import GridSearchCV\n",
        "from sklearn.metrics import matthews_corrcoef, precision_score, recall_score, accuracy_score\n",
        "\n",
        "import warnings\n",
        "import sklearn.exceptions\n",
        "warnings.filterwarnings(\"ignore\", category=sklearn.exceptions.UndefinedMetricWarning)\n",
        "\n",
        "# Classifier\n",
        "svc = SVC()\n",
        "\n",
        "# Build a pipeline\n",
        "pipe = Pipeline(steps=[('vect', count_vect),\n",
        "                       ('tfidf', tfidf_transformer),\n",
        "                       ('svc', svc)])\n",
        "\n",
        "# Set the parameters by cross-validation\n",
        "tuned_params = [{'svc__kernel': ['rbf'], 'svc__gamma': [1e-3, 1e-4], 'svc__C': [1, 10, 100, 1000]},\n",
        "                {'svc__kernel': ['linear'], 'svc__C': [1, 10, 100, 1000]}]\n",
        "\n",
        "scores = ['precision', 'recall', 'balanced_accuracy']\n",
        "\n",
        "for score in scores:\n",
        "  print(\"# Tuning hyper-parameters for %s\" % score)\n",
        "  print()\n",
        "    \n",
        "  search = GridSearchCV(pipe, tuned_params, cv=5, scoring=score)\n",
        "  \n",
        "  search.fit(X_train, y_train)\n",
        "  \n",
        "  print(\"Best parameters set found on development set:\")\n",
        "  print()\n",
        "  print(search.best_params_)\n",
        "  print()\n",
        "  print(\"Grid scores on development set:\")\n",
        "  print()\n",
        "  means = search.cv_results_['mean_test_score']\n",
        "  stds = search.cv_results_['std_test_score']\n",
        "  \n",
        "  for mean, std, params in zip(means, stds, search.cv_results_['params']):\n",
        "        print(\"%0.3f (+/-%0.03f) for %r\"\n",
        "              % (mean, std * 2, params))\n",
        "  print()\n",
        "  \n",
        "  print(\"Detailed classification report:\")\n",
        "  print()\n",
        "  print(\"The model is trained on the full development set.\")\n",
        "  print(\"The scores are computed on the full evaluation set.\")\n",
        "  print()\n",
        "  y_true, y_pred = y_test, search.predict(X_test)\n",
        "  print(classification_report(y_true, y_pred))\n",
        "  print()\n",
        "  print(\"Spam Caught: %0.02f %%\" % (100*recall_score(y_true, y_pred)))\n",
        "  print(\"Blocked Ham: %0.02f %%\" % (100*(1-precision_score(y_true, y_pred))))\n",
        "  print(\"Accuracy: %0.02f %%\" % (100*accuracy_score(y_true, y_pred)))\n",
        "  print(\"Matthews correlation coefficient (MCC): %0.02f %%\" %(100*matthews_corrcoef(y_true, y_pred)))\n",
        "    \n"
      ],
      "execution_count": 0,
      "outputs": [
        {
          "output_type": "stream",
          "text": [
            "# Tuning hyper-parameters for precision\n",
            "\n",
            "Best parameters set found on development set:\n",
            "\n",
            "{'svc__C': 100, 'svc__gamma': 0.001, 'svc__kernel': 'rbf'}\n",
            "\n",
            "Grid scores on development set:\n",
            "\n",
            "0.000 (+/-0.000) for {'svc__C': 1, 'svc__gamma': 0.001, 'svc__kernel': 'rbf'}\n",
            "0.000 (+/-0.000) for {'svc__C': 1, 'svc__gamma': 0.0001, 'svc__kernel': 'rbf'}\n",
            "0.000 (+/-0.000) for {'svc__C': 10, 'svc__gamma': 0.001, 'svc__kernel': 'rbf'}\n",
            "0.000 (+/-0.000) for {'svc__C': 10, 'svc__gamma': 0.0001, 'svc__kernel': 'rbf'}\n",
            "0.993 (+/-0.011) for {'svc__C': 100, 'svc__gamma': 0.001, 'svc__kernel': 'rbf'}\n",
            "0.000 (+/-0.000) for {'svc__C': 100, 'svc__gamma': 0.0001, 'svc__kernel': 'rbf'}\n",
            "0.984 (+/-0.033) for {'svc__C': 1000, 'svc__gamma': 0.001, 'svc__kernel': 'rbf'}\n",
            "0.993 (+/-0.011) for {'svc__C': 1000, 'svc__gamma': 0.0001, 'svc__kernel': 'rbf'}\n",
            "0.986 (+/-0.031) for {'svc__C': 1, 'svc__kernel': 'linear'}\n",
            "0.979 (+/-0.032) for {'svc__C': 10, 'svc__kernel': 'linear'}\n",
            "0.979 (+/-0.032) for {'svc__C': 100, 'svc__kernel': 'linear'}\n",
            "0.979 (+/-0.032) for {'svc__C': 1000, 'svc__kernel': 'linear'}\n",
            "\n",
            "Detailed classification report:\n",
            "\n",
            "The model is trained on the full development set.\n",
            "The scores are computed on the full evaluation set.\n",
            "\n",
            "              precision    recall  f1-score   support\n",
            "\n",
            "           0       0.98      1.00      0.99       966\n",
            "           1       1.00      0.84      0.91       149\n",
            "\n",
            "   micro avg       0.98      0.98      0.98      1115\n",
            "   macro avg       0.99      0.92      0.95      1115\n",
            "weighted avg       0.98      0.98      0.98      1115\n",
            "\n",
            "\n",
            "Spam Caught: 83.89 %\n",
            "Blocked Ham: 0.00 %\n",
            "Accuracy: 97.85 %\n",
            "Matthews correlation coefficient (MCC): 90.48 %\n",
            "# Tuning hyper-parameters for recall\n",
            "\n",
            "Best parameters set found on development set:\n",
            "\n",
            "{'svc__C': 1000, 'svc__gamma': 0.001, 'svc__kernel': 'rbf'}\n",
            "\n",
            "Grid scores on development set:\n",
            "\n",
            "0.000 (+/-0.000) for {'svc__C': 1, 'svc__gamma': 0.001, 'svc__kernel': 'rbf'}\n",
            "0.000 (+/-0.000) for {'svc__C': 1, 'svc__gamma': 0.0001, 'svc__kernel': 'rbf'}\n",
            "0.000 (+/-0.000) for {'svc__C': 10, 'svc__gamma': 0.001, 'svc__kernel': 'rbf'}\n",
            "0.000 (+/-0.000) for {'svc__C': 10, 'svc__gamma': 0.0001, 'svc__kernel': 'rbf'}\n",
            "0.766 (+/-0.069) for {'svc__C': 100, 'svc__gamma': 0.001, 'svc__kernel': 'rbf'}\n",
            "0.000 (+/-0.000) for {'svc__C': 100, 'svc__gamma': 0.0001, 'svc__kernel': 'rbf'}\n",
            "0.916 (+/-0.044) for {'svc__C': 1000, 'svc__gamma': 0.001, 'svc__kernel': 'rbf'}\n",
            "0.766 (+/-0.069) for {'svc__C': 1000, 'svc__gamma': 0.0001, 'svc__kernel': 'rbf'}\n",
            "0.905 (+/-0.056) for {'svc__C': 1, 'svc__kernel': 'linear'}\n",
            "0.915 (+/-0.037) for {'svc__C': 10, 'svc__kernel': 'linear'}\n",
            "0.915 (+/-0.037) for {'svc__C': 100, 'svc__kernel': 'linear'}\n",
            "0.915 (+/-0.037) for {'svc__C': 1000, 'svc__kernel': 'linear'}\n",
            "\n",
            "Detailed classification report:\n",
            "\n",
            "The model is trained on the full development set.\n",
            "The scores are computed on the full evaluation set.\n",
            "\n",
            "              precision    recall  f1-score   support\n",
            "\n",
            "           0       0.99      1.00      0.99       966\n",
            "           1       0.98      0.93      0.95       149\n",
            "\n",
            "   micro avg       0.99      0.99      0.99      1115\n",
            "   macro avg       0.98      0.96      0.97      1115\n",
            "weighted avg       0.99      0.99      0.99      1115\n",
            "\n",
            "\n",
            "Spam Caught: 92.62 %\n",
            "Blocked Ham: 2.13 %\n",
            "Accuracy: 98.74 %\n",
            "Matthews correlation coefficient (MCC): 94.50 %\n",
            "# Tuning hyper-parameters for balanced_accuracy\n",
            "\n",
            "Best parameters set found on development set:\n",
            "\n",
            "{'svc__C': 1000, 'svc__gamma': 0.001, 'svc__kernel': 'rbf'}\n",
            "\n",
            "Grid scores on development set:\n",
            "\n",
            "0.500 (+/-0.000) for {'svc__C': 1, 'svc__gamma': 0.001, 'svc__kernel': 'rbf'}\n",
            "0.500 (+/-0.000) for {'svc__C': 1, 'svc__gamma': 0.0001, 'svc__kernel': 'rbf'}\n",
            "0.500 (+/-0.000) for {'svc__C': 10, 'svc__gamma': 0.001, 'svc__kernel': 'rbf'}\n",
            "0.500 (+/-0.000) for {'svc__C': 10, 'svc__gamma': 0.0001, 'svc__kernel': 'rbf'}\n",
            "0.883 (+/-0.035) for {'svc__C': 100, 'svc__gamma': 0.001, 'svc__kernel': 'rbf'}\n",
            "0.500 (+/-0.000) for {'svc__C': 100, 'svc__gamma': 0.0001, 'svc__kernel': 'rbf'}\n",
            "0.957 (+/-0.020) for {'svc__C': 1000, 'svc__gamma': 0.001, 'svc__kernel': 'rbf'}\n",
            "0.883 (+/-0.035) for {'svc__C': 1000, 'svc__gamma': 0.0001, 'svc__kernel': 'rbf'}\n",
            "0.951 (+/-0.026) for {'svc__C': 1, 'svc__kernel': 'linear'}\n",
            "0.956 (+/-0.016) for {'svc__C': 10, 'svc__kernel': 'linear'}\n",
            "0.956 (+/-0.016) for {'svc__C': 100, 'svc__kernel': 'linear'}\n",
            "0.956 (+/-0.016) for {'svc__C': 1000, 'svc__kernel': 'linear'}\n",
            "\n",
            "Detailed classification report:\n",
            "\n",
            "The model is trained on the full development set.\n",
            "The scores are computed on the full evaluation set.\n",
            "\n",
            "              precision    recall  f1-score   support\n",
            "\n",
            "           0       0.99      1.00      0.99       966\n",
            "           1       0.98      0.93      0.95       149\n",
            "\n",
            "   micro avg       0.99      0.99      0.99      1115\n",
            "   macro avg       0.98      0.96      0.97      1115\n",
            "weighted avg       0.99      0.99      0.99      1115\n",
            "\n",
            "\n",
            "Spam Caught: 92.62 %\n",
            "Blocked Ham: 2.13 %\n",
            "Accuracy: 98.74 %\n",
            "Matthews correlation coefficient (MCC): 94.50 %\n"
          ],
          "name": "stdout"
        }
      ]
    },
    {
      "cell_type": "markdown",
      "metadata": {
        "id": "-fRcYCiUORAd",
        "colab_type": "text"
      },
      "source": [
        "# Performance metrics for different optimization"
      ]
    },
    {
      "cell_type": "markdown",
      "metadata": {
        "id": "HY889Ly9ORr3",
        "colab_type": "text"
      },
      "source": [
        "**Precision-optimized model**\n",
        "\n",
        "Spam Caught: 83.89 %\n",
        "\n",
        "Blocked Ham: 0.00 %\n",
        "\n",
        "Accuracy: 97.85 %\n",
        "\n",
        "Matthews correlation coefficient (MCC): 90.48 %\n",
        "\n",
        "\n",
        "**Recall-optimized model**\n",
        "\n",
        "Spam Caught: 92.62 %\n",
        "\n",
        "Blocked Ham: 2.13 %\n",
        "\n",
        "Accuracy: 98.74 %\n",
        "\n",
        "Matthews correlation coefficient (MCC): 94.50 %\n",
        "\n",
        "**Accuracy-optimized model**\n",
        "\n",
        "Spam Caught: 92.62 %\n",
        "\n",
        "Blocked Ham: 2.13 %\n",
        "\n",
        "Accuracy: 98.74 %\n",
        "Matthews correlation coefficient (MCC): 94.50 %"
      ]
    },
    {
      "cell_type": "markdown",
      "metadata": {
        "id": "bbuQTcNRs8Kj",
        "colab_type": "text"
      },
      "source": [
        "**Performance metrics terms**\n",
        "\n",
        "Blocked Ham: FP/(TP+FP) =  1 - Precision\n",
        "\n",
        "Spam Caught: TP/(TP+FN) =  Recall\n",
        "\n",
        "Accuracy: Acc\n",
        "\n",
        "Matthews correlation coefficient: MCC"
      ]
    }
  ]
}